{
 "cells": [
  {
   "cell_type": "code",
   "execution_count": 27,
   "metadata": {},
   "outputs": [],
   "source": [
    "import pandas as pd\n",
    "import numpy as np\n",
    "import matplotlib.pyplot as plt\n",
    "\n",
    "# Get current directory\n",
    "import os\n",
    "dir_path = os.path.dirname(os.path.realpath(\"passer_yty.ipynb\"))\n",
    "\n",
    "# Set working directory\n",
    "os.chdir('C:\\\\Users\\\\Jack\\\\Documents\\\\GitHub\\\\FFInsights\\\\data')"
   ]
  },
  {
   "cell_type": "code",
   "execution_count": 32,
   "metadata": {},
   "outputs": [],
   "source": [
    "# Load data\n",
    "for year in range(2013, 2023):\n",
    "    file_name = f'{year}_nfl_passing_profootballreference.csv'\n",
    "    globals()[f'pass_{year}'] = pd.read_csv(file_name)"
   ]
  },
  {
   "cell_type": "code",
   "execution_count": 33,
   "metadata": {},
   "outputs": [],
   "source": [
    "# Transform data\n",
    "# Rename 'Yds.1' to 'Sack_Yds'\n",
    "for year in range(2013, 2023):\n",
    "    globals()[f'pass_{year}'].rename(columns={'Yds.1': 'Sack_Yds'}, inplace=True)\n",
    "\n",
    "# Make new column 'ProBowl' if * is in 'Player'\n",
    "for year in range(2013, 2023):\n",
    "    globals()[f'pass_{year}']['ProBowl'] = np.where(globals()[f'pass_{year}']['Player'].str.contains('\\*'), 1, 0)\n",
    "\n",
    "# Make new column 'Allpro' if + is in 'Player'\n",
    "for year in range(2013, 2023):\n",
    "    globals()[f'pass_{year}']['AllPro'] = np.where(globals()[f'pass_{year}']['Player'].str.contains('\\+'), 1, 0)\n",
    "\n",
    "# Replace Nan values in 'QBR' with 0\n",
    "for year in range(2013, 2023):\n",
    "    globals()[f'pass_{year}']['QBR'].fillna(0, inplace=True)\n",
    "\n",
    "# Remove NaN values\n",
    "for year in range(2013, 2023):\n",
    "    globals()[f'pass_{year}'].dropna(inplace=True)\n",
    "\n",
    "# Make new column 'Wins' from first number in 'QBrec'\n",
    "for year in range(2013, 2023):\n",
    "    globals()[f'pass_{year}']['Wins'] = globals()[f'pass_{year}']['QBrec'].str.extract(r'(\\d+)-').astype(int)\n",
    "\n",
    "# Make new column 'Losses' from second number in 'QBrec'\n",
    "for year in range(2013, 2023):\n",
    "    globals()[f'pass_{year}']['Losses'] = globals()[f'pass_{year}']['QBrec'].str.extract(r'-(\\d+)').astype(int)\n",
    "\n",
    "# Make new column 'WinPct' from 'Wins' and 'Losses'\n",
    "for year in range(2013, 2023):\n",
    "    globals()[f'pass_{year}']['WinPct'] = globals()[f'pass_{year}']['Wins'] / (globals()[f'pass_{year}']['Wins'] + globals()[f'pass_{year}']['Losses'])\n",
    "\n",
    "# Make new column 'FntsyPnts' from 'Yds' and 'TD' and 'Int' and 'Rush_Yds' and 'Rush_TD' and 'Fumbles'"
   ]
  },
  {
   "cell_type": "code",
   "execution_count": 34,
   "metadata": {},
   "outputs": [
    {
     "name": "stderr",
     "output_type": "stream",
     "text": [
      "C:\\Users\\Jack\\AppData\\Local\\Temp\\ipykernel_24508\\596322495.py:3: FutureWarning: The default value of regex will change from True to False in a future version. In addition, single character regular expressions will *not* be treated as literal strings when regex=True.\n",
      "  globals()[f'pass_{year}']['Player'] = globals()[f'pass_{year}']['Player'].str.replace('*', '')\n",
      "C:\\Users\\Jack\\AppData\\Local\\Temp\\ipykernel_24508\\596322495.py:4: FutureWarning: The default value of regex will change from True to False in a future version. In addition, single character regular expressions will *not* be treated as literal strings when regex=True.\n",
      "  globals()[f'pass_{year}']['Player'] = globals()[f'pass_{year}']['Player'].str.replace('+', '')\n"
     ]
    }
   ],
   "source": [
    "# Remove * and + from 'Player'\n",
    "for year in range(2013, 2023):\n",
    "    globals()[f'pass_{year}']['Player'] = globals()[f'pass_{year}']['Player'].str.replace('*', '')\n",
    "    globals()[f'pass_{year}']['Player'] = globals()[f'pass_{year}']['Player'].str.replace('+', '')\n",
    "\n",
    "# Remove columns\n",
    "for year in range(2013, 2023):\n",
    "    globals()[f'pass_{year}'].drop(columns='QBrec', inplace=True)\n",
    "    globals()[f'pass_{year}'].drop(columns='Player-additional', inplace=True)\n",
    "    globals()[f'pass_{year}'].drop(columns='Rk', inplace=True)"
   ]
  },
  {
   "cell_type": "code",
   "execution_count": 31,
   "metadata": {},
   "outputs": [
    {
     "data": {
      "text/plain": [
       "Index(['Rk', 'Player', 'Tm', 'Age', 'Pos', 'G', 'GS', 'Cmp', 'Att', 'Cmp%',\n",
       "       'Yds', 'TD', 'TD%', 'Int', 'Int%', '1D', 'Succ%', 'Lng', 'Y/A', 'AY/A',\n",
       "       'Y/C', 'Y/G', 'Rate', 'QBR', 'Sk', 'Rush_Yds', 'Sk%', 'NY/A', 'ANY/A',\n",
       "       '4QC', 'GWD', 'ProBowl', 'AllPro', 'Wins', 'Losses', 'WinPct'],\n",
       "      dtype='object')"
      ]
     },
     "execution_count": 31,
     "metadata": {},
     "output_type": "execute_result"
    }
   ],
   "source": [
    "# Preview feature names and data types\n",
    "pass_2013.columns"
   ]
  }
 ],
 "metadata": {
  "kernelspec": {
   "display_name": "Python 3",
   "language": "python",
   "name": "python3"
  },
  "language_info": {
   "codemirror_mode": {
    "name": "ipython",
    "version": 3
   },
   "file_extension": ".py",
   "mimetype": "text/x-python",
   "name": "python",
   "nbconvert_exporter": "python",
   "pygments_lexer": "ipython3",
   "version": "3.9.13"
  }
 },
 "nbformat": 4,
 "nbformat_minor": 2
}
